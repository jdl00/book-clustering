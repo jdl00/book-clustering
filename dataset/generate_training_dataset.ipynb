{
 "cells": [
  {
   "cell_type": "code",
   "execution_count": 1,
   "metadata": {},
   "outputs": [
    {
     "name": "stderr",
     "output_type": "stream",
     "text": [
      "/var/folders/qx/983mrq556gld5j2kgcg12scw0000gn/T/ipykernel_52391/2193546379.py:3: DeprecationWarning: \n",
      "Pyarrow will become a required dependency of pandas in the next major release of pandas (pandas 3.0),\n",
      "(to allow more performant data types, such as the Arrow string type, and better interoperability with other libraries)\n",
      "but was not found to be installed on your system.\n",
      "If this would cause problems for you,\n",
      "please provide us feedback at https://github.com/pandas-dev/pandas/issues/54466\n",
      "        \n",
      "  import pandas as pd\n"
     ]
    }
   ],
   "source": [
    "import os\n",
    "\n",
    "import pandas as pd\n",
    "import numpy as np"
   ]
  },
  {
   "cell_type": "code",
   "execution_count": 2,
   "metadata": {},
   "outputs": [
    {
     "data": {
      "text/plain": [
       "'/Users/jonaslindstroem/Programs/BookRecommendation/model/dataset/books.csv'"
      ]
     },
     "execution_count": 2,
     "metadata": {},
     "output_type": "execute_result"
    }
   ],
   "source": [
    "BOOK_DATASET_DIR = os.path.abspath('books.csv')\n",
    "BOOK_DATASET_DIR"
   ]
  },
  {
   "cell_type": "code",
   "execution_count": 3,
   "metadata": {},
   "outputs": [],
   "source": [
    "from tqdm import tqdm"
   ]
  },
  {
   "cell_type": "code",
   "execution_count": 4,
   "metadata": {},
   "outputs": [],
   "source": [
    "import re\n",
    "\n",
    "def sanitise(text):\n",
    "    \"\"\"\n",
    "    Extracts all special characters from a string.\n",
    "\n",
    "    Args:\n",
    "        text: The string to extract special characters from.\n",
    "\n",
    "    Returns:\n",
    "        A string containing all the special characters found in the input text.\n",
    "    \"\"\"\n",
    "\n",
    "    # Define the regular expression pattern to match special characters.\n",
    "    # \\W matches any character that is NOT a word character (alphanumeric or underscore).\n",
    "    # The + ensures we match one or more special characters in a sequence.\n",
    "    pattern = r\"\\W+\"\n",
    "\n",
    "    # Use re.findall() to extract all matching groups of characters.\n",
    "    special_chars = re.sub(pattern, ' ', str(text))\n",
    "\n",
    "    # Join the extracted characters into a single string.\n",
    "    return \"\".join(special_chars)"
   ]
  },
  {
   "cell_type": "code",
   "execution_count": 5,
   "metadata": {},
   "outputs": [],
   "source": [
    "def extract_book_info(row):\n",
    "    \"\"\"Extracts specific fields from a DataFrame row.\"\"\"\n",
    "    return f\"{row['title']} {row['author']} {row['genre']} {sanitise(row['desc'])}\""
   ]
  },
  {
   "cell_type": "code",
   "execution_count": 6,
   "metadata": {},
   "outputs": [
    {
     "name": "stderr",
     "output_type": "stream",
     "text": [
      "85519it [00:03, 22171.70it/s]\n"
     ]
    }
   ],
   "source": [
    "book_df = pd.read_csv(BOOK_DATASET_DIR, dtype='str')\n",
    "\n",
    "unique_rows_df = book_df.drop_duplicates(subset='isbn')\n",
    "\n",
    "data = []\n",
    "isbn_list = []\n",
    "for index, row in tqdm(unique_rows_df.iterrows()):\n",
    "    isbn_list.append(row['isbn'])\n",
    "    book_details = extract_book_info(row)\n",
    "    data.append(book_details)\n",
    "\n",
    "\n",
    "data_df = pd.DataFrame({'isbn': isbn_list,\n",
    "                   'desc': data})\n",
    "\n",
    "data_df.to_csv('book_training_data.csv', index=False)"
   ]
  }
 ],
 "metadata": {
  "kernelspec": {
   "display_name": ".venv",
   "language": "python",
   "name": "python3"
  },
  "language_info": {
   "codemirror_mode": {
    "name": "ipython",
    "version": 3
   },
   "file_extension": ".py",
   "mimetype": "text/x-python",
   "name": "python",
   "nbconvert_exporter": "python",
   "pygments_lexer": "ipython3",
   "version": "3.11.0"
  }
 },
 "nbformat": 4,
 "nbformat_minor": 2
}
